{
 "cells": [
  {
   "cell_type": "markdown",
   "source": [
    "## İmport all required libraries"
   ],
   "metadata": {
    "collapsed": false
   },
   "id": "7c4565f6262c2190"
  },
  {
   "cell_type": "code",
   "execution_count": null,
   "id": "initial_id",
   "metadata": {
    "collapsed": true
   },
   "outputs": [],
   "source": [
    "import pandas as pd\n",
    "import numpy as np\n",
    "import matplotlib.pylab as plt\n",
    "import seaborn as sns\n",
    "\n",
    "plt.style.use(\"ggplot\")\n",
    "\n",
    "df = pd.read_csv(\"coaster_db.csv\")"
   ]
  },
  {
   "cell_type": "markdown",
   "source": [
    "## Data understanding\n",
    "```shape, head, tail, dtypes, describe```"
   ],
   "metadata": {
    "collapsed": false
   },
   "id": "64a7787dfba84d0d"
  },
  {
   "cell_type": "code",
   "execution_count": null,
   "outputs": [],
   "source": [
    "df.shape"
   ],
   "metadata": {
    "collapsed": false
   },
   "id": "ab6db5620c93dd1a"
  },
  {
   "cell_type": "code",
   "execution_count": null,
   "outputs": [],
   "source": [
    "df.head()"
   ],
   "metadata": {
    "collapsed": false
   },
   "id": "cb6104fc3ab8b140"
  },
  {
   "cell_type": "code",
   "execution_count": null,
   "outputs": [],
   "source": [
    "df.columns"
   ],
   "metadata": {
    "collapsed": false
   },
   "id": "610f07a75608c205"
  },
  {
   "cell_type": "code",
   "execution_count": null,
   "outputs": [],
   "source": [
    "df.dtypes"
   ],
   "metadata": {
    "collapsed": false
   },
   "id": "84bb19cda1c99625"
  },
  {
   "cell_type": "code",
   "execution_count": null,
   "outputs": [],
   "source": [
    "df.describe()"
   ],
   "metadata": {
    "collapsed": false
   },
   "id": "e80494ad6fdee2b3"
  },
  {
   "cell_type": "code",
   "execution_count": null,
   "outputs": [],
   "source": [
    "df = df[['coaster_name',\n",
    "    # 'Length', 'Speed',\n",
    "    'Location', 'Status',\n",
    "    # 'Opening date',\n",
    "    # 'Type',\n",
    "    'Manufacturer',\n",
    "    # 'Height restriction', 'Model', 'Height',\n",
    "     # 'Inversions', 'Lift/launch system', 'Cost', 'Trains', 'Park section',\n",
    "     # 'Duration', 'Capacity', 'G-force', 'Designer', 'Max vertical angle',\n",
    "     # 'Drop', 'Soft opening date', 'Fast Lane available', 'Replaced',\n",
    "     # 'Track layout', 'Fastrack available', 'Soft opening date.1',\n",
    "     # 'Closing date', 'Opened',\n",
    "    #'Replaced by', 'Website',\n",
    "     # 'Flash Pass Available', 'Must transfer from wheelchair', 'Theme',\n",
    "     # 'Single rider line available', 'Restraint Style',\n",
    "     # 'Flash Pass available', 'Acceleration', 'Restraints', 'Name',\n",
    "     'year_introduced', 'latitude', 'longitude',\n",
    "     'Type_Main',\n",
    "     'opening_date_clean',\n",
    "    #'speed1', 'speed2', 'speed1_value', 'speed1_unit',\n",
    "     'speed_mph',\n",
    "    # 'height_value', 'height_unit',\n",
    "     'height_ft',\n",
    "     'Inversions_clean', 'Gforce_clean']].copy()"
   ],
   "metadata": {
    "collapsed": false
   },
   "id": "de120ff831fbd2d7"
  },
  {
   "cell_type": "code",
   "execution_count": null,
   "outputs": [],
   "source": [
    "df[\"opening_date_clean\"] = pd.to_datetime(df['opening_date_clean'])"
   ],
   "metadata": {
    "collapsed": false
   },
   "id": "4af75c6adccc8b50"
  },
  {
   "cell_type": "markdown",
   "source": [
    "# Rename columns"
   ],
   "metadata": {
    "collapsed": false
   },
   "id": "56efae3b4cb86177"
  },
  {
   "cell_type": "code",
   "execution_count": null,
   "outputs": [],
   "source": [
    "df.rename(columns={\"opening_date_clean\": \"Opening_Date\",\n",
    "                   \"coaster_name\": \"Coaster_Name\",\n",
    "                   \"opening_date_datetime\": \"Opening_Datetime\",\n",
    "                   \"speed_mph\": \"Speed\",\n",
    "                   \"height_ft\": \"Height\",\n",
    "                   \"Inversions_clean\": \"Inversions\",\n",
    "                   \"year_introduced\": \"Year_Introduced\",\n",
    "                   \"Gforce_clean\": \"gForce\"}, inplace=True)"
   ],
   "metadata": {
    "collapsed": false
   },
   "id": "9b8c60584a658bde"
  },
  {
   "cell_type": "code",
   "execution_count": null,
   "outputs": [],
   "source": [
    "df.isna().sum()"
   ],
   "metadata": {
    "collapsed": false
   },
   "id": "919f3c87b946a1f9"
  },
  {
   "cell_type": "code",
   "execution_count": null,
   "outputs": [],
   "source": [
    "df.loc[df.duplicated()]"
   ],
   "metadata": {
    "collapsed": false
   },
   "id": "6b616f9d7162d73"
  },
  {
   "cell_type": "code",
   "execution_count": null,
   "outputs": [],
   "source": [
    "df.loc[df.duplicated(subset=[\"Coaster_Name\"])].head()"
   ],
   "metadata": {
    "collapsed": false
   },
   "id": "e82f9e3acbf90a4d"
  },
  {
   "cell_type": "code",
   "execution_count": null,
   "outputs": [],
   "source": [
    "# Checking an example of duplicated rows\n",
    "\n",
    "df.query('Coaster_Name == \"Crystal Beach Cyclone\"')"
   ],
   "metadata": {
    "collapsed": false
   },
   "id": "12ccf7f9adbc35ff"
  },
  {
   "cell_type": "code",
   "execution_count": null,
   "outputs": [],
   "source": [
    "df = df.loc[~df.duplicated(subset=[\"Coaster_Name\",\"Location\", \"Opening_Date\"])] \\\n",
    "    .reset_index(drop=True).copy()"
   ],
   "metadata": {
    "collapsed": false
   },
   "id": "731afd3da7462c57"
  },
  {
   "cell_type": "code",
   "execution_count": null,
   "outputs": [],
   "source": [
    "df.shape"
   ],
   "metadata": {
    "collapsed": false
   },
   "id": "f39af00226b8fb4e"
  },
  {
   "cell_type": "markdown",
   "source": [
    "# Feature Understanding\n",
    "- Plotting Feature Distributions\n",
    "  - Histogram, KDE, Boxplot\n"
   ],
   "metadata": {
    "collapsed": false
   },
   "id": "6f09a89f5883157d"
  },
  {
   "cell_type": "code",
   "execution_count": null,
   "outputs": [],
   "source": [
    "ax = df[\"Year_Introduced\"].value_counts() \\\n",
    "    .head(10) \\\n",
    "    .plot(kind=\"barh\", figsize=(8, 5), title=\"Top 10 Year Introduced\")\n",
    "ax.set_xlabel(\"Year Introduced\")\n",
    "ax.set_ylabel(\"Count\")"
   ],
   "metadata": {
    "collapsed": false
   },
   "id": "166ebad1144be7c0"
  },
  {
   "cell_type": "code",
   "execution_count": null,
   "outputs": [],
   "source": [
    "ax = df[\"Speed\"].plot(kind=\"hist\", bins=20, figsize=(8, 5), title=\"Speed Distribution\")\n",
    "ax.set_xlabel(\"Speed(mph)\")"
   ],
   "metadata": {
    "collapsed": false
   },
   "id": "a3ce46de5a47404c"
  },
  {
   "cell_type": "code",
   "execution_count": null,
   "outputs": [],
   "source": [
    "ax = df[\"Speed\"].plot(kind=\"kde\", figsize=(8, 5), title=\"Speed Distribution\")\n",
    "ax.set_xlabel(\"Speed(mph)\")"
   ],
   "metadata": {
    "collapsed": false
   },
   "id": "500f403da2da5be0"
  },
  {
   "cell_type": "markdown",
   "source": [
    "# Feature relations\n",
    "- Scatterplot, Heatmap Correlation, Pairplot, Groupby comparison"
   ],
   "metadata": {
    "collapsed": false
   },
   "id": "fd21bf729d8d1ed9"
  },
  {
   "cell_type": "code",
   "execution_count": null,
   "outputs": [],
   "source": [
    "df.plot(kind=\"scatter\", x=\"Speed\", y=\"Height\", figsize=(8, 5), title=\"Height vs Speed\")\n",
    "plt.show() # to remove the text above the plot"
   ],
   "metadata": {
    "collapsed": false
   },
   "id": "bac22882a4f3bc08"
  },
  {
   "cell_type": "code",
   "execution_count": null,
   "outputs": [],
   "source": [
    "sns.scatterplot(x=\"Speed\", y=\"Height\", data=df, hue=\"Year_Introduced\")"
   ],
   "metadata": {
    "collapsed": false
   },
   "id": "67b1b45d8ebc609"
  },
  {
   "cell_type": "code",
   "execution_count": null,
   "outputs": [],
   "source": [
    "sns.pairplot(df, vars=[\"Speed\", \"Height\", \"Inversions\", \"Year_Introduced\", \"gForce\"], hue=\"Type_Main\")\n",
    "plt.show()"
   ],
   "metadata": {
    "collapsed": false
   },
   "id": "aae9eac14b03ab8e"
  },
  {
   "cell_type": "code",
   "execution_count": 32,
   "outputs": [
    {
     "data": {
      "text/plain": "                                 mean  count\nLocation                                    \nBusch Gardens Williamsburg  58.318182     11\nCedar Point                 57.833333     18\nSix Flags Magic Mountain    57.241176     17\nCanada's Wonderland         53.533333     12\nSix Flags Great Adventure   53.036364     11\nKings Dominion              52.083333     12\nHersheypark                 50.576923     13\nKings Island                49.273684     19\nCarowinds                   43.571429     14\nAlton Towers                42.791667     12",
      "text/html": "<div>\n<style scoped>\n    .dataframe tbody tr th:only-of-type {\n        vertical-align: middle;\n    }\n\n    .dataframe tbody tr th {\n        vertical-align: top;\n    }\n\n    .dataframe thead th {\n        text-align: right;\n    }\n</style>\n<table border=\"1\" class=\"dataframe\">\n  <thead>\n    <tr style=\"text-align: right;\">\n      <th></th>\n      <th>mean</th>\n      <th>count</th>\n    </tr>\n    <tr>\n      <th>Location</th>\n      <th></th>\n      <th></th>\n    </tr>\n  </thead>\n  <tbody>\n    <tr>\n      <th>Busch Gardens Williamsburg</th>\n      <td>58.318182</td>\n      <td>11</td>\n    </tr>\n    <tr>\n      <th>Cedar Point</th>\n      <td>57.833333</td>\n      <td>18</td>\n    </tr>\n    <tr>\n      <th>Six Flags Magic Mountain</th>\n      <td>57.241176</td>\n      <td>17</td>\n    </tr>\n    <tr>\n      <th>Canada's Wonderland</th>\n      <td>53.533333</td>\n      <td>12</td>\n    </tr>\n    <tr>\n      <th>Six Flags Great Adventure</th>\n      <td>53.036364</td>\n      <td>11</td>\n    </tr>\n    <tr>\n      <th>Kings Dominion</th>\n      <td>52.083333</td>\n      <td>12</td>\n    </tr>\n    <tr>\n      <th>Hersheypark</th>\n      <td>50.576923</td>\n      <td>13</td>\n    </tr>\n    <tr>\n      <th>Kings Island</th>\n      <td>49.273684</td>\n      <td>19</td>\n    </tr>\n    <tr>\n      <th>Carowinds</th>\n      <td>43.571429</td>\n      <td>14</td>\n    </tr>\n    <tr>\n      <th>Alton Towers</th>\n      <td>42.791667</td>\n      <td>12</td>\n    </tr>\n  </tbody>\n</table>\n</div>"
     },
     "execution_count": 32,
     "metadata": {},
     "output_type": "execute_result"
    }
   ],
   "source": [
    "# What are the fastest roller coasters?\n",
    "\n",
    "df.query(\"Location != 'Other'\") \\\n",
    "    .groupby(\"Location\")[\"Speed\"].agg([\"mean\", \"count\"]).query('count >= 10').sort_values(by=\"mean\", ascending=False).head(10)"
   ],
   "metadata": {
    "collapsed": false,
    "ExecuteTime": {
     "end_time": "2023-08-23T16:18:00.164917600Z",
     "start_time": "2023-08-23T16:18:00.121172400Z"
    }
   },
   "id": "90257c8641a9ac55"
  },
  {
   "cell_type": "code",
   "execution_count": null,
   "outputs": [],
   "source": [],
   "metadata": {
    "collapsed": false
   },
   "id": "cd818518793b29d3"
  }
 ],
 "metadata": {
  "kernelspec": {
   "display_name": "Python 3",
   "language": "python",
   "name": "python3"
  },
  "language_info": {
   "codemirror_mode": {
    "name": "ipython",
    "version": 2
   },
   "file_extension": ".py",
   "mimetype": "text/x-python",
   "name": "python",
   "nbconvert_exporter": "python",
   "pygments_lexer": "ipython2",
   "version": "2.7.6"
  }
 },
 "nbformat": 4,
 "nbformat_minor": 5
}
