{
 "cells": [
  {
   "cell_type": "markdown",
   "source": [
    "## İmport all required libraries"
   ],
   "metadata": {
    "collapsed": false
   },
   "id": "7c4565f6262c2190"
  },
  {
   "cell_type": "code",
   "execution_count": 1,
   "id": "initial_id",
   "metadata": {
    "collapsed": true,
    "ExecuteTime": {
     "end_time": "2023-08-23T14:36:36.246199100Z",
     "start_time": "2023-08-23T14:36:36.149445900Z"
    }
   },
   "outputs": [],
   "source": [
    "import pandas as pd\n",
    "import numpy as np\n",
    "import matplotlib.pylab as plt\n",
    "import seaborn as sns\n",
    "\n",
    "plt.style.use(\"ggplot\")\n",
    "\n",
    "df = pd.read_csv(\"coaster_db.csv\")"
   ]
  },
  {
   "cell_type": "markdown",
   "source": [
    "## Data understanding\n",
    "```shape, head, tail, dtypes, describe```"
   ],
   "metadata": {
    "collapsed": false
   },
   "id": "64a7787dfba84d0d"
  },
  {
   "cell_type": "code",
   "execution_count": 2,
   "outputs": [
    {
     "data": {
      "text/plain": "(1087, 56)"
     },
     "execution_count": 2,
     "metadata": {},
     "output_type": "execute_result"
    }
   ],
   "source": [
    "df.shape"
   ],
   "metadata": {
    "collapsed": false,
    "ExecuteTime": {
     "end_time": "2023-08-23T14:36:36.253483Z",
     "start_time": "2023-08-23T14:36:36.182875500Z"
    }
   },
   "id": "ab6db5620c93dd1a"
  },
  {
   "cell_type": "code",
   "execution_count": 3,
   "outputs": [
    {
     "data": {
      "text/plain": "                             coaster_name          Length             Speed  \\\n0                      Switchback Railway  600 ft (180 m)  6 mph (9.7 km/h)   \n1                       Flip Flap Railway             NaN               NaN   \n2  Switchback Railway (Euclid Beach Park)             NaN               NaN   \n3            Loop the Loop (Coney Island)             NaN               NaN   \n4            Loop the Loop (Young's Pier)             NaN               NaN   \n\n                         Location   Status   Opening date   Type  \\\n0                    Coney Island  Removed  June 16, 1884   Wood   \n1                   Sea Lion Park  Removed           1895   Wood   \n2  Cleveland, Ohio, United States   Closed            NaN  Other   \n3                           Other  Removed           1901  Steel   \n4                           Other  Removed           1901  Steel   \n\n             Manufacturer Height restriction        Model  ...  speed1  \\\n0  LaMarcus Adna Thompson                NaN  Lift Packed  ...  6 mph    \n1            Lina Beecher                NaN          NaN  ...     NaN   \n2                     NaN                NaN          NaN  ...     NaN   \n3          Edwin Prescott                NaN          NaN  ...     NaN   \n4          Edwin Prescott                NaN          NaN  ...     NaN   \n\n     speed2 speed1_value speed1_unit speed_mph height_value height_unit  \\\n0  9.7 km/h          6.0         mph       6.0         50.0          ft   \n1       NaN          NaN         NaN       NaN          NaN         NaN   \n2       NaN          NaN         NaN       NaN          NaN         NaN   \n3       NaN          NaN         NaN       NaN          NaN         NaN   \n4       NaN          NaN         NaN       NaN          NaN         NaN   \n\n  height_ft Inversions_clean Gforce_clean  \n0       NaN                0          2.9  \n1       NaN                1         12.0  \n2       NaN                0          NaN  \n3       NaN                1          NaN  \n4       NaN                1          NaN  \n\n[5 rows x 56 columns]",
      "text/html": "<div>\n<style scoped>\n    .dataframe tbody tr th:only-of-type {\n        vertical-align: middle;\n    }\n\n    .dataframe tbody tr th {\n        vertical-align: top;\n    }\n\n    .dataframe thead th {\n        text-align: right;\n    }\n</style>\n<table border=\"1\" class=\"dataframe\">\n  <thead>\n    <tr style=\"text-align: right;\">\n      <th></th>\n      <th>coaster_name</th>\n      <th>Length</th>\n      <th>Speed</th>\n      <th>Location</th>\n      <th>Status</th>\n      <th>Opening date</th>\n      <th>Type</th>\n      <th>Manufacturer</th>\n      <th>Height restriction</th>\n      <th>Model</th>\n      <th>...</th>\n      <th>speed1</th>\n      <th>speed2</th>\n      <th>speed1_value</th>\n      <th>speed1_unit</th>\n      <th>speed_mph</th>\n      <th>height_value</th>\n      <th>height_unit</th>\n      <th>height_ft</th>\n      <th>Inversions_clean</th>\n      <th>Gforce_clean</th>\n    </tr>\n  </thead>\n  <tbody>\n    <tr>\n      <th>0</th>\n      <td>Switchback Railway</td>\n      <td>600 ft (180 m)</td>\n      <td>6 mph (9.7 km/h)</td>\n      <td>Coney Island</td>\n      <td>Removed</td>\n      <td>June 16, 1884</td>\n      <td>Wood</td>\n      <td>LaMarcus Adna Thompson</td>\n      <td>NaN</td>\n      <td>Lift Packed</td>\n      <td>...</td>\n      <td>6 mph</td>\n      <td>9.7 km/h</td>\n      <td>6.0</td>\n      <td>mph</td>\n      <td>6.0</td>\n      <td>50.0</td>\n      <td>ft</td>\n      <td>NaN</td>\n      <td>0</td>\n      <td>2.9</td>\n    </tr>\n    <tr>\n      <th>1</th>\n      <td>Flip Flap Railway</td>\n      <td>NaN</td>\n      <td>NaN</td>\n      <td>Sea Lion Park</td>\n      <td>Removed</td>\n      <td>1895</td>\n      <td>Wood</td>\n      <td>Lina Beecher</td>\n      <td>NaN</td>\n      <td>NaN</td>\n      <td>...</td>\n      <td>NaN</td>\n      <td>NaN</td>\n      <td>NaN</td>\n      <td>NaN</td>\n      <td>NaN</td>\n      <td>NaN</td>\n      <td>NaN</td>\n      <td>NaN</td>\n      <td>1</td>\n      <td>12.0</td>\n    </tr>\n    <tr>\n      <th>2</th>\n      <td>Switchback Railway (Euclid Beach Park)</td>\n      <td>NaN</td>\n      <td>NaN</td>\n      <td>Cleveland, Ohio, United States</td>\n      <td>Closed</td>\n      <td>NaN</td>\n      <td>Other</td>\n      <td>NaN</td>\n      <td>NaN</td>\n      <td>NaN</td>\n      <td>...</td>\n      <td>NaN</td>\n      <td>NaN</td>\n      <td>NaN</td>\n      <td>NaN</td>\n      <td>NaN</td>\n      <td>NaN</td>\n      <td>NaN</td>\n      <td>NaN</td>\n      <td>0</td>\n      <td>NaN</td>\n    </tr>\n    <tr>\n      <th>3</th>\n      <td>Loop the Loop (Coney Island)</td>\n      <td>NaN</td>\n      <td>NaN</td>\n      <td>Other</td>\n      <td>Removed</td>\n      <td>1901</td>\n      <td>Steel</td>\n      <td>Edwin Prescott</td>\n      <td>NaN</td>\n      <td>NaN</td>\n      <td>...</td>\n      <td>NaN</td>\n      <td>NaN</td>\n      <td>NaN</td>\n      <td>NaN</td>\n      <td>NaN</td>\n      <td>NaN</td>\n      <td>NaN</td>\n      <td>NaN</td>\n      <td>1</td>\n      <td>NaN</td>\n    </tr>\n    <tr>\n      <th>4</th>\n      <td>Loop the Loop (Young's Pier)</td>\n      <td>NaN</td>\n      <td>NaN</td>\n      <td>Other</td>\n      <td>Removed</td>\n      <td>1901</td>\n      <td>Steel</td>\n      <td>Edwin Prescott</td>\n      <td>NaN</td>\n      <td>NaN</td>\n      <td>...</td>\n      <td>NaN</td>\n      <td>NaN</td>\n      <td>NaN</td>\n      <td>NaN</td>\n      <td>NaN</td>\n      <td>NaN</td>\n      <td>NaN</td>\n      <td>NaN</td>\n      <td>1</td>\n      <td>NaN</td>\n    </tr>\n  </tbody>\n</table>\n<p>5 rows × 56 columns</p>\n</div>"
     },
     "execution_count": 3,
     "metadata": {},
     "output_type": "execute_result"
    }
   ],
   "source": [
    "df.head()"
   ],
   "metadata": {
    "collapsed": false,
    "ExecuteTime": {
     "end_time": "2023-08-23T14:36:36.253483Z",
     "start_time": "2023-08-23T14:36:36.184385300Z"
    }
   },
   "id": "cb6104fc3ab8b140"
  },
  {
   "cell_type": "code",
   "execution_count": 4,
   "outputs": [
    {
     "data": {
      "text/plain": "Index(['coaster_name', 'Length', 'Speed', 'Location', 'Status', 'Opening date',\n       'Type', 'Manufacturer', 'Height restriction', 'Model', 'Height',\n       'Inversions', 'Lift/launch system', 'Cost', 'Trains', 'Park section',\n       'Duration', 'Capacity', 'G-force', 'Designer', 'Max vertical angle',\n       'Drop', 'Soft opening date', 'Fast Lane available', 'Replaced',\n       'Track layout', 'Fastrack available', 'Soft opening date.1',\n       'Closing date', 'Opened', 'Replaced by', 'Website',\n       'Flash Pass Available', 'Must transfer from wheelchair', 'Theme',\n       'Single rider line available', 'Restraint Style',\n       'Flash Pass available', 'Acceleration', 'Restraints', 'Name',\n       'year_introduced', 'latitude', 'longitude', 'Type_Main',\n       'opening_date_clean', 'speed1', 'speed2', 'speed1_value', 'speed1_unit',\n       'speed_mph', 'height_value', 'height_unit', 'height_ft',\n       'Inversions_clean', 'Gforce_clean'],\n      dtype='object')"
     },
     "execution_count": 4,
     "metadata": {},
     "output_type": "execute_result"
    }
   ],
   "source": [
    "df.columns"
   ],
   "metadata": {
    "collapsed": false,
    "ExecuteTime": {
     "end_time": "2023-08-23T14:36:36.260898100Z",
     "start_time": "2023-08-23T14:36:36.216351500Z"
    }
   },
   "id": "610f07a75608c205"
  },
  {
   "cell_type": "code",
   "execution_count": 5,
   "outputs": [
    {
     "data": {
      "text/plain": "coaster_name                      object\nLength                            object\nSpeed                             object\nLocation                          object\nStatus                            object\nOpening date                      object\nType                              object\nManufacturer                      object\nHeight restriction                object\nModel                             object\nHeight                            object\nInversions                       float64\nLift/launch system                object\nCost                              object\nTrains                            object\nPark section                      object\nDuration                          object\nCapacity                          object\nG-force                           object\nDesigner                          object\nMax vertical angle                object\nDrop                              object\nSoft opening date                 object\nFast Lane available               object\nReplaced                          object\nTrack layout                      object\nFastrack available                object\nSoft opening date.1               object\nClosing date                      object\nOpened                            object\nReplaced by                       object\nWebsite                           object\nFlash Pass Available              object\nMust transfer from wheelchair     object\nTheme                             object\nSingle rider line available       object\nRestraint Style                   object\nFlash Pass available              object\nAcceleration                      object\nRestraints                        object\nName                              object\nyear_introduced                    int64\nlatitude                         float64\nlongitude                        float64\nType_Main                         object\nopening_date_clean                object\nspeed1                            object\nspeed2                            object\nspeed1_value                     float64\nspeed1_unit                       object\nspeed_mph                        float64\nheight_value                     float64\nheight_unit                       object\nheight_ft                        float64\nInversions_clean                   int64\nGforce_clean                     float64\ndtype: object"
     },
     "execution_count": 5,
     "metadata": {},
     "output_type": "execute_result"
    }
   ],
   "source": [
    "df.dtypes"
   ],
   "metadata": {
    "collapsed": false,
    "ExecuteTime": {
     "end_time": "2023-08-23T14:36:36.261404Z",
     "start_time": "2023-08-23T14:36:36.216351500Z"
    }
   },
   "id": "84bb19cda1c99625"
  },
  {
   "cell_type": "code",
   "execution_count": 6,
   "outputs": [
    {
     "data": {
      "text/plain": "       Inversions  year_introduced    latitude   longitude  speed1_value  \\\ncount  932.000000      1087.000000  812.000000  812.000000    937.000000   \nmean     1.547210      1994.986201   38.373484  -41.595373     53.850374   \nstd      2.114073        23.475248   15.516596   72.285227     23.385518   \nmin      0.000000      1884.000000  -48.261700 -123.035700      5.000000   \n25%      0.000000      1989.000000   35.031050  -84.552200     40.000000   \n50%      0.000000      2000.000000   40.289800  -76.653600     50.000000   \n75%      3.000000      2010.000000   44.799600    2.778100     63.000000   \nmax     14.000000      2022.000000   63.230900  153.426500    240.000000   \n\n        speed_mph  height_value   height_ft  Inversions_clean  Gforce_clean  \ncount  937.000000    965.000000  171.000000       1087.000000    362.000000  \nmean    48.617289     89.575171  101.996491          1.326587      3.824006  \nstd     16.678031    136.246444   67.329092          2.030854      0.989998  \nmin      5.000000      4.000000   13.100000          0.000000      0.800000  \n25%     37.300000     44.000000   51.800000          0.000000      3.400000  \n50%     49.700000     79.000000   91.200000          0.000000      4.000000  \n75%     58.000000    113.000000  131.200000          2.000000      4.500000  \nmax    149.100000   3937.000000  377.300000         14.000000     12.000000  ",
      "text/html": "<div>\n<style scoped>\n    .dataframe tbody tr th:only-of-type {\n        vertical-align: middle;\n    }\n\n    .dataframe tbody tr th {\n        vertical-align: top;\n    }\n\n    .dataframe thead th {\n        text-align: right;\n    }\n</style>\n<table border=\"1\" class=\"dataframe\">\n  <thead>\n    <tr style=\"text-align: right;\">\n      <th></th>\n      <th>Inversions</th>\n      <th>year_introduced</th>\n      <th>latitude</th>\n      <th>longitude</th>\n      <th>speed1_value</th>\n      <th>speed_mph</th>\n      <th>height_value</th>\n      <th>height_ft</th>\n      <th>Inversions_clean</th>\n      <th>Gforce_clean</th>\n    </tr>\n  </thead>\n  <tbody>\n    <tr>\n      <th>count</th>\n      <td>932.000000</td>\n      <td>1087.000000</td>\n      <td>812.000000</td>\n      <td>812.000000</td>\n      <td>937.000000</td>\n      <td>937.000000</td>\n      <td>965.000000</td>\n      <td>171.000000</td>\n      <td>1087.000000</td>\n      <td>362.000000</td>\n    </tr>\n    <tr>\n      <th>mean</th>\n      <td>1.547210</td>\n      <td>1994.986201</td>\n      <td>38.373484</td>\n      <td>-41.595373</td>\n      <td>53.850374</td>\n      <td>48.617289</td>\n      <td>89.575171</td>\n      <td>101.996491</td>\n      <td>1.326587</td>\n      <td>3.824006</td>\n    </tr>\n    <tr>\n      <th>std</th>\n      <td>2.114073</td>\n      <td>23.475248</td>\n      <td>15.516596</td>\n      <td>72.285227</td>\n      <td>23.385518</td>\n      <td>16.678031</td>\n      <td>136.246444</td>\n      <td>67.329092</td>\n      <td>2.030854</td>\n      <td>0.989998</td>\n    </tr>\n    <tr>\n      <th>min</th>\n      <td>0.000000</td>\n      <td>1884.000000</td>\n      <td>-48.261700</td>\n      <td>-123.035700</td>\n      <td>5.000000</td>\n      <td>5.000000</td>\n      <td>4.000000</td>\n      <td>13.100000</td>\n      <td>0.000000</td>\n      <td>0.800000</td>\n    </tr>\n    <tr>\n      <th>25%</th>\n      <td>0.000000</td>\n      <td>1989.000000</td>\n      <td>35.031050</td>\n      <td>-84.552200</td>\n      <td>40.000000</td>\n      <td>37.300000</td>\n      <td>44.000000</td>\n      <td>51.800000</td>\n      <td>0.000000</td>\n      <td>3.400000</td>\n    </tr>\n    <tr>\n      <th>50%</th>\n      <td>0.000000</td>\n      <td>2000.000000</td>\n      <td>40.289800</td>\n      <td>-76.653600</td>\n      <td>50.000000</td>\n      <td>49.700000</td>\n      <td>79.000000</td>\n      <td>91.200000</td>\n      <td>0.000000</td>\n      <td>4.000000</td>\n    </tr>\n    <tr>\n      <th>75%</th>\n      <td>3.000000</td>\n      <td>2010.000000</td>\n      <td>44.799600</td>\n      <td>2.778100</td>\n      <td>63.000000</td>\n      <td>58.000000</td>\n      <td>113.000000</td>\n      <td>131.200000</td>\n      <td>2.000000</td>\n      <td>4.500000</td>\n    </tr>\n    <tr>\n      <th>max</th>\n      <td>14.000000</td>\n      <td>2022.000000</td>\n      <td>63.230900</td>\n      <td>153.426500</td>\n      <td>240.000000</td>\n      <td>149.100000</td>\n      <td>3937.000000</td>\n      <td>377.300000</td>\n      <td>14.000000</td>\n      <td>12.000000</td>\n    </tr>\n  </tbody>\n</table>\n</div>"
     },
     "execution_count": 6,
     "metadata": {},
     "output_type": "execute_result"
    }
   ],
   "source": [
    "df.describe()"
   ],
   "metadata": {
    "collapsed": false,
    "ExecuteTime": {
     "end_time": "2023-08-23T14:36:36.261404Z",
     "start_time": "2023-08-23T14:36:36.224069100Z"
    }
   },
   "id": "e80494ad6fdee2b3"
  },
  {
   "cell_type": "code",
   "execution_count": 7,
   "outputs": [],
   "source": [
    "df = df[['coaster_name',\n",
    "    # 'Length', 'Speed',\n",
    "    'Location', 'Status',\n",
    "    # 'Opening date',\n",
    "    # 'Type',\n",
    "    'Manufacturer',\n",
    "    # 'Height restriction', 'Model', 'Height',\n",
    "     # 'Inversions', 'Lift/launch system', 'Cost', 'Trains', 'Park section',\n",
    "     # 'Duration', 'Capacity', 'G-force', 'Designer', 'Max vertical angle',\n",
    "     # 'Drop', 'Soft opening date', 'Fast Lane available', 'Replaced',\n",
    "     # 'Track layout', 'Fastrack available', 'Soft opening date.1',\n",
    "     # 'Closing date', 'Opened',\n",
    "    #'Replaced by', 'Website',\n",
    "     # 'Flash Pass Available', 'Must transfer from wheelchair', 'Theme',\n",
    "     # 'Single rider line available', 'Restraint Style',\n",
    "     # 'Flash Pass available', 'Acceleration', 'Restraints', 'Name',\n",
    "     'year_introduced', 'latitude', 'longitude',\n",
    "     'Type_Main',\n",
    "     'opening_date_clean',\n",
    "    #'speed1', 'speed2', 'speed1_value', 'speed1_unit',\n",
    "     'speed_mph',\n",
    "    # 'height_value', 'height_unit',\n",
    "     'height_ft',\n",
    "     'Inversions_clean', 'Gforce_clean']].copy()"
   ],
   "metadata": {
    "collapsed": false,
    "ExecuteTime": {
     "end_time": "2023-08-23T14:36:36.271272300Z",
     "start_time": "2023-08-23T14:36:36.253483Z"
    }
   },
   "id": "de120ff831fbd2d7"
  },
  {
   "cell_type": "code",
   "execution_count": 8,
   "outputs": [],
   "source": [
    "df[\"opening_date_clean\"] = pd.to_datetime(df['opening_date_clean'])"
   ],
   "metadata": {
    "collapsed": false,
    "ExecuteTime": {
     "end_time": "2023-08-23T14:36:36.287745500Z",
     "start_time": "2023-08-23T14:36:36.261404Z"
    }
   },
   "id": "4af75c6adccc8b50"
  },
  {
   "cell_type": "markdown",
   "source": [
    "# Rename columns"
   ],
   "metadata": {
    "collapsed": false
   },
   "id": "56efae3b4cb86177"
  },
  {
   "cell_type": "code",
   "execution_count": 9,
   "outputs": [],
   "source": [
    "df.rename(columns={\"opening_date_clean\": \"Opening_Date\",\n",
    "                   \"coaster_name\": \"Coaster_Name\",\n",
    "                   \"opening_date_datetime\": \"Opening_Datetime\",\n",
    "                   \"speed_mph\": \"Speed\",\n",
    "                   \"height_ft\": \"Height\",\n",
    "                   \"Inversions_clean\": \"Inversions\",\n",
    "                   \"gforce\": \"gForce\"}, inplace=True)"
   ],
   "metadata": {
    "collapsed": false,
    "ExecuteTime": {
     "end_time": "2023-08-23T14:36:36.344138800Z",
     "start_time": "2023-08-23T14:36:36.271272300Z"
    }
   },
   "id": "9b8c60584a658bde"
  },
  {
   "cell_type": "code",
   "execution_count": 10,
   "outputs": [
    {
     "data": {
      "text/plain": "Coaster_Name         0\nLocation             0\nStatus             213\nManufacturer        59\nyear_introduced      0\nlatitude           275\nlongitude          275\nType_Main            0\nOpening_Date       250\nSpeed              150\nHeight             916\nInversions           0\nGforce_clean       725\ndtype: int64"
     },
     "execution_count": 10,
     "metadata": {},
     "output_type": "execute_result"
    }
   ],
   "source": [
    "df.isna().sum()"
   ],
   "metadata": {
    "collapsed": false,
    "ExecuteTime": {
     "end_time": "2023-08-23T14:36:36.345293400Z",
     "start_time": "2023-08-23T14:36:36.277078200Z"
    }
   },
   "id": "919f3c87b946a1f9"
  },
  {
   "cell_type": "code",
   "execution_count": 11,
   "outputs": [
    {
     "data": {
      "text/plain": "Empty DataFrame\nColumns: [Coaster_Name, Location, Status, Manufacturer, year_introduced, latitude, longitude, Type_Main, Opening_Date, Speed, Height, Inversions, Gforce_clean]\nIndex: []",
      "text/html": "<div>\n<style scoped>\n    .dataframe tbody tr th:only-of-type {\n        vertical-align: middle;\n    }\n\n    .dataframe tbody tr th {\n        vertical-align: top;\n    }\n\n    .dataframe thead th {\n        text-align: right;\n    }\n</style>\n<table border=\"1\" class=\"dataframe\">\n  <thead>\n    <tr style=\"text-align: right;\">\n      <th></th>\n      <th>Coaster_Name</th>\n      <th>Location</th>\n      <th>Status</th>\n      <th>Manufacturer</th>\n      <th>year_introduced</th>\n      <th>latitude</th>\n      <th>longitude</th>\n      <th>Type_Main</th>\n      <th>Opening_Date</th>\n      <th>Speed</th>\n      <th>Height</th>\n      <th>Inversions</th>\n      <th>Gforce_clean</th>\n    </tr>\n  </thead>\n  <tbody>\n  </tbody>\n</table>\n</div>"
     },
     "execution_count": 11,
     "metadata": {},
     "output_type": "execute_result"
    }
   ],
   "source": [
    "df.loc[df.duplicated()]"
   ],
   "metadata": {
    "collapsed": false,
    "ExecuteTime": {
     "end_time": "2023-08-23T14:36:36.374159Z",
     "start_time": "2023-08-23T14:36:36.292475900Z"
    }
   },
   "id": "6b616f9d7162d73"
  },
  {
   "cell_type": "code",
   "execution_count": 12,
   "outputs": [
    {
     "data": {
      "text/plain": "                          Coaster_Name             Location     Status  \\\n43               Crystal Beach Cyclone   Crystal Beach Park    Removed   \n60                         Derby Racer         Revere Beach    Removed   \n61         Blue Streak (Conneaut Lake)   Conneaut Lake Park     Closed   \n167      Big Thunder Mountain Railroad                Other        NaN   \n237  Thunder Run (Canada's Wonderland)  Canada's Wonderland  Operating   \n\n                                          Manufacturer  year_introduced  \\\n43                                  Traver Engineering             1927   \n60                                      Fred W. Pearce             1937   \n61                                                 NaN             1938   \n167  Arrow Development (California and Florida)Dyna...             1980   \n237                                         Mack Rides             1986   \n\n     latitude  longitude Type_Main Opening_Date  Speed  Height  Inversions  \\\n43    42.8617   -79.0598      Wood   1926-01-01   60.0     NaN           0   \n60    42.4200   -70.9860      Wood   1911-01-01    NaN     NaN           0   \n61    41.6349   -80.3180      Wood   1938-05-23   50.0     NaN           0   \n167       NaN        NaN     Steel          NaT   35.0     NaN           0   \n237   43.8427   -79.5423     Steel   1981-05-23   39.8    32.8           0   \n\n     Gforce_clean  \n43            4.0  \n60            NaN  \n61            NaN  \n167           NaN  \n237           NaN  ",
      "text/html": "<div>\n<style scoped>\n    .dataframe tbody tr th:only-of-type {\n        vertical-align: middle;\n    }\n\n    .dataframe tbody tr th {\n        vertical-align: top;\n    }\n\n    .dataframe thead th {\n        text-align: right;\n    }\n</style>\n<table border=\"1\" class=\"dataframe\">\n  <thead>\n    <tr style=\"text-align: right;\">\n      <th></th>\n      <th>Coaster_Name</th>\n      <th>Location</th>\n      <th>Status</th>\n      <th>Manufacturer</th>\n      <th>year_introduced</th>\n      <th>latitude</th>\n      <th>longitude</th>\n      <th>Type_Main</th>\n      <th>Opening_Date</th>\n      <th>Speed</th>\n      <th>Height</th>\n      <th>Inversions</th>\n      <th>Gforce_clean</th>\n    </tr>\n  </thead>\n  <tbody>\n    <tr>\n      <th>43</th>\n      <td>Crystal Beach Cyclone</td>\n      <td>Crystal Beach Park</td>\n      <td>Removed</td>\n      <td>Traver Engineering</td>\n      <td>1927</td>\n      <td>42.8617</td>\n      <td>-79.0598</td>\n      <td>Wood</td>\n      <td>1926-01-01</td>\n      <td>60.0</td>\n      <td>NaN</td>\n      <td>0</td>\n      <td>4.0</td>\n    </tr>\n    <tr>\n      <th>60</th>\n      <td>Derby Racer</td>\n      <td>Revere Beach</td>\n      <td>Removed</td>\n      <td>Fred W. Pearce</td>\n      <td>1937</td>\n      <td>42.4200</td>\n      <td>-70.9860</td>\n      <td>Wood</td>\n      <td>1911-01-01</td>\n      <td>NaN</td>\n      <td>NaN</td>\n      <td>0</td>\n      <td>NaN</td>\n    </tr>\n    <tr>\n      <th>61</th>\n      <td>Blue Streak (Conneaut Lake)</td>\n      <td>Conneaut Lake Park</td>\n      <td>Closed</td>\n      <td>NaN</td>\n      <td>1938</td>\n      <td>41.6349</td>\n      <td>-80.3180</td>\n      <td>Wood</td>\n      <td>1938-05-23</td>\n      <td>50.0</td>\n      <td>NaN</td>\n      <td>0</td>\n      <td>NaN</td>\n    </tr>\n    <tr>\n      <th>167</th>\n      <td>Big Thunder Mountain Railroad</td>\n      <td>Other</td>\n      <td>NaN</td>\n      <td>Arrow Development (California and Florida)Dyna...</td>\n      <td>1980</td>\n      <td>NaN</td>\n      <td>NaN</td>\n      <td>Steel</td>\n      <td>NaT</td>\n      <td>35.0</td>\n      <td>NaN</td>\n      <td>0</td>\n      <td>NaN</td>\n    </tr>\n    <tr>\n      <th>237</th>\n      <td>Thunder Run (Canada's Wonderland)</td>\n      <td>Canada's Wonderland</td>\n      <td>Operating</td>\n      <td>Mack Rides</td>\n      <td>1986</td>\n      <td>43.8427</td>\n      <td>-79.5423</td>\n      <td>Steel</td>\n      <td>1981-05-23</td>\n      <td>39.8</td>\n      <td>32.8</td>\n      <td>0</td>\n      <td>NaN</td>\n    </tr>\n  </tbody>\n</table>\n</div>"
     },
     "execution_count": 12,
     "metadata": {},
     "output_type": "execute_result"
    }
   ],
   "source": [
    "df.loc[df.duplicated(subset=[\"Coaster_Name\"])].head()"
   ],
   "metadata": {
    "collapsed": false,
    "ExecuteTime": {
     "end_time": "2023-08-23T14:36:36.407278700Z",
     "start_time": "2023-08-23T14:36:36.305429200Z"
    }
   },
   "id": "e82f9e3acbf90a4d"
  },
  {
   "cell_type": "code",
   "execution_count": 13,
   "outputs": [
    {
     "data": {
      "text/plain": "             Coaster_Name            Location   Status        Manufacturer  \\\n39  Crystal Beach Cyclone  Crystal Beach Park  Removed  Traver Engineering   \n43  Crystal Beach Cyclone  Crystal Beach Park  Removed  Traver Engineering   \n\n    year_introduced  latitude  longitude Type_Main Opening_Date  Speed  \\\n39             1926   42.8617   -79.0598      Wood   1926-01-01   60.0   \n43             1927   42.8617   -79.0598      Wood   1926-01-01   60.0   \n\n    Height  Inversions  Gforce_clean  \n39     NaN           0           4.0  \n43     NaN           0           4.0  ",
      "text/html": "<div>\n<style scoped>\n    .dataframe tbody tr th:only-of-type {\n        vertical-align: middle;\n    }\n\n    .dataframe tbody tr th {\n        vertical-align: top;\n    }\n\n    .dataframe thead th {\n        text-align: right;\n    }\n</style>\n<table border=\"1\" class=\"dataframe\">\n  <thead>\n    <tr style=\"text-align: right;\">\n      <th></th>\n      <th>Coaster_Name</th>\n      <th>Location</th>\n      <th>Status</th>\n      <th>Manufacturer</th>\n      <th>year_introduced</th>\n      <th>latitude</th>\n      <th>longitude</th>\n      <th>Type_Main</th>\n      <th>Opening_Date</th>\n      <th>Speed</th>\n      <th>Height</th>\n      <th>Inversions</th>\n      <th>Gforce_clean</th>\n    </tr>\n  </thead>\n  <tbody>\n    <tr>\n      <th>39</th>\n      <td>Crystal Beach Cyclone</td>\n      <td>Crystal Beach Park</td>\n      <td>Removed</td>\n      <td>Traver Engineering</td>\n      <td>1926</td>\n      <td>42.8617</td>\n      <td>-79.0598</td>\n      <td>Wood</td>\n      <td>1926-01-01</td>\n      <td>60.0</td>\n      <td>NaN</td>\n      <td>0</td>\n      <td>4.0</td>\n    </tr>\n    <tr>\n      <th>43</th>\n      <td>Crystal Beach Cyclone</td>\n      <td>Crystal Beach Park</td>\n      <td>Removed</td>\n      <td>Traver Engineering</td>\n      <td>1927</td>\n      <td>42.8617</td>\n      <td>-79.0598</td>\n      <td>Wood</td>\n      <td>1926-01-01</td>\n      <td>60.0</td>\n      <td>NaN</td>\n      <td>0</td>\n      <td>4.0</td>\n    </tr>\n  </tbody>\n</table>\n</div>"
     },
     "execution_count": 13,
     "metadata": {},
     "output_type": "execute_result"
    }
   ],
   "source": [
    "# Checking an example of duplicated rows\n",
    "\n",
    "df.query('Coaster_Name == \"Crystal Beach Cyclone\"')"
   ],
   "metadata": {
    "collapsed": false,
    "ExecuteTime": {
     "end_time": "2023-08-23T14:36:36.451181Z",
     "start_time": "2023-08-23T14:36:36.319643800Z"
    }
   },
   "id": "12ccf7f9adbc35ff"
  },
  {
   "cell_type": "code",
   "execution_count": 14,
   "outputs": [],
   "source": [
    "df = df.loc[~df.duplicated(subset=[\"Coaster_Name\",\"Location\", \"Opening_Date\"])] \\\n",
    "    .reset_index(drop=True).copy()"
   ],
   "metadata": {
    "collapsed": false,
    "ExecuteTime": {
     "end_time": "2023-08-23T14:36:36.451181Z",
     "start_time": "2023-08-23T14:36:36.334488200Z"
    }
   },
   "id": "731afd3da7462c57"
  },
  {
   "cell_type": "code",
   "execution_count": 15,
   "outputs": [
    {
     "data": {
      "text/plain": "(990, 13)"
     },
     "execution_count": 15,
     "metadata": {},
     "output_type": "execute_result"
    }
   ],
   "source": [
    "df.shape"
   ],
   "metadata": {
    "collapsed": false,
    "ExecuteTime": {
     "end_time": "2023-08-23T14:36:36.452430200Z",
     "start_time": "2023-08-23T14:36:36.344790Z"
    }
   },
   "id": "f39af00226b8fb4e"
  },
  {
   "cell_type": "code",
   "execution_count": 15,
   "outputs": [],
   "source": [],
   "metadata": {
    "collapsed": false,
    "ExecuteTime": {
     "end_time": "2023-08-23T14:36:36.468756900Z",
     "start_time": "2023-08-23T14:36:36.349017100Z"
    }
   },
   "id": "166ebad1144be7c0"
  }
 ],
 "metadata": {
  "kernelspec": {
   "display_name": "Python 3",
   "language": "python",
   "name": "python3"
  },
  "language_info": {
   "codemirror_mode": {
    "name": "ipython",
    "version": 2
   },
   "file_extension": ".py",
   "mimetype": "text/x-python",
   "name": "python",
   "nbconvert_exporter": "python",
   "pygments_lexer": "ipython2",
   "version": "2.7.6"
  }
 },
 "nbformat": 4,
 "nbformat_minor": 5
}
