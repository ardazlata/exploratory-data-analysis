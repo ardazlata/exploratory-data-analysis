{
 "cells": [
  {
   "cell_type": "markdown",
   "source": [
    "## İmport all required libraries"
   ],
   "metadata": {
    "collapsed": false
   },
   "id": "7c4565f6262c2190"
  },
  {
   "cell_type": "code",
   "execution_count": 3,
   "id": "initial_id",
   "metadata": {
    "collapsed": true,
    "ExecuteTime": {
     "end_time": "2023-08-23T13:47:21.457051600Z",
     "start_time": "2023-08-23T13:47:21.400966400Z"
    }
   },
   "outputs": [],
   "source": [
    "import pandas as pd\n",
    "import numpy as np\n",
    "import matplotlib.pylab as plt\n",
    "import seaborn as sns\n",
    "\n",
    "plt.style.use(\"ggplot\")\n",
    "\n",
    "df = pd.read_csv(\"coaster_db.csv\")"
   ]
  },
  {
   "cell_type": "markdown",
   "source": [
    "## Data understanding\n",
    "```shape, head, tail, dtypes, describe```"
   ],
   "metadata": {
    "collapsed": false
   },
   "id": "64a7787dfba84d0d"
  },
  {
   "cell_type": "code",
   "execution_count": 4,
   "outputs": [
    {
     "data": {
      "text/plain": "(1087, 56)"
     },
     "execution_count": 4,
     "metadata": {},
     "output_type": "execute_result"
    }
   ],
   "source": [
    "df.shape"
   ],
   "metadata": {
    "collapsed": false,
    "ExecuteTime": {
     "end_time": "2023-08-23T13:47:21.458056700Z",
     "start_time": "2023-08-23T13:47:21.444363800Z"
    }
   },
   "id": "ab6db5620c93dd1a"
  },
  {
   "cell_type": "code",
   "execution_count": 5,
   "outputs": [
    {
     "data": {
      "text/plain": "                             coaster_name          Length             Speed  \\\n0                      Switchback Railway  600 ft (180 m)  6 mph (9.7 km/h)   \n1                       Flip Flap Railway             NaN               NaN   \n2  Switchback Railway (Euclid Beach Park)             NaN               NaN   \n3            Loop the Loop (Coney Island)             NaN               NaN   \n4            Loop the Loop (Young's Pier)             NaN               NaN   \n\n                         Location   Status   Opening date   Type  \\\n0                    Coney Island  Removed  June 16, 1884   Wood   \n1                   Sea Lion Park  Removed           1895   Wood   \n2  Cleveland, Ohio, United States   Closed            NaN  Other   \n3                           Other  Removed           1901  Steel   \n4                           Other  Removed           1901  Steel   \n\n             Manufacturer Height restriction        Model  ...  speed1  \\\n0  LaMarcus Adna Thompson                NaN  Lift Packed  ...  6 mph    \n1            Lina Beecher                NaN          NaN  ...     NaN   \n2                     NaN                NaN          NaN  ...     NaN   \n3          Edwin Prescott                NaN          NaN  ...     NaN   \n4          Edwin Prescott                NaN          NaN  ...     NaN   \n\n     speed2 speed1_value speed1_unit speed_mph height_value height_unit  \\\n0  9.7 km/h          6.0         mph       6.0         50.0          ft   \n1       NaN          NaN         NaN       NaN          NaN         NaN   \n2       NaN          NaN         NaN       NaN          NaN         NaN   \n3       NaN          NaN         NaN       NaN          NaN         NaN   \n4       NaN          NaN         NaN       NaN          NaN         NaN   \n\n  height_ft Inversions_clean Gforce_clean  \n0       NaN                0          2.9  \n1       NaN                1         12.0  \n2       NaN                0          NaN  \n3       NaN                1          NaN  \n4       NaN                1          NaN  \n\n[5 rows x 56 columns]",
      "text/html": "<div>\n<style scoped>\n    .dataframe tbody tr th:only-of-type {\n        vertical-align: middle;\n    }\n\n    .dataframe tbody tr th {\n        vertical-align: top;\n    }\n\n    .dataframe thead th {\n        text-align: right;\n    }\n</style>\n<table border=\"1\" class=\"dataframe\">\n  <thead>\n    <tr style=\"text-align: right;\">\n      <th></th>\n      <th>coaster_name</th>\n      <th>Length</th>\n      <th>Speed</th>\n      <th>Location</th>\n      <th>Status</th>\n      <th>Opening date</th>\n      <th>Type</th>\n      <th>Manufacturer</th>\n      <th>Height restriction</th>\n      <th>Model</th>\n      <th>...</th>\n      <th>speed1</th>\n      <th>speed2</th>\n      <th>speed1_value</th>\n      <th>speed1_unit</th>\n      <th>speed_mph</th>\n      <th>height_value</th>\n      <th>height_unit</th>\n      <th>height_ft</th>\n      <th>Inversions_clean</th>\n      <th>Gforce_clean</th>\n    </tr>\n  </thead>\n  <tbody>\n    <tr>\n      <th>0</th>\n      <td>Switchback Railway</td>\n      <td>600 ft (180 m)</td>\n      <td>6 mph (9.7 km/h)</td>\n      <td>Coney Island</td>\n      <td>Removed</td>\n      <td>June 16, 1884</td>\n      <td>Wood</td>\n      <td>LaMarcus Adna Thompson</td>\n      <td>NaN</td>\n      <td>Lift Packed</td>\n      <td>...</td>\n      <td>6 mph</td>\n      <td>9.7 km/h</td>\n      <td>6.0</td>\n      <td>mph</td>\n      <td>6.0</td>\n      <td>50.0</td>\n      <td>ft</td>\n      <td>NaN</td>\n      <td>0</td>\n      <td>2.9</td>\n    </tr>\n    <tr>\n      <th>1</th>\n      <td>Flip Flap Railway</td>\n      <td>NaN</td>\n      <td>NaN</td>\n      <td>Sea Lion Park</td>\n      <td>Removed</td>\n      <td>1895</td>\n      <td>Wood</td>\n      <td>Lina Beecher</td>\n      <td>NaN</td>\n      <td>NaN</td>\n      <td>...</td>\n      <td>NaN</td>\n      <td>NaN</td>\n      <td>NaN</td>\n      <td>NaN</td>\n      <td>NaN</td>\n      <td>NaN</td>\n      <td>NaN</td>\n      <td>NaN</td>\n      <td>1</td>\n      <td>12.0</td>\n    </tr>\n    <tr>\n      <th>2</th>\n      <td>Switchback Railway (Euclid Beach Park)</td>\n      <td>NaN</td>\n      <td>NaN</td>\n      <td>Cleveland, Ohio, United States</td>\n      <td>Closed</td>\n      <td>NaN</td>\n      <td>Other</td>\n      <td>NaN</td>\n      <td>NaN</td>\n      <td>NaN</td>\n      <td>...</td>\n      <td>NaN</td>\n      <td>NaN</td>\n      <td>NaN</td>\n      <td>NaN</td>\n      <td>NaN</td>\n      <td>NaN</td>\n      <td>NaN</td>\n      <td>NaN</td>\n      <td>0</td>\n      <td>NaN</td>\n    </tr>\n    <tr>\n      <th>3</th>\n      <td>Loop the Loop (Coney Island)</td>\n      <td>NaN</td>\n      <td>NaN</td>\n      <td>Other</td>\n      <td>Removed</td>\n      <td>1901</td>\n      <td>Steel</td>\n      <td>Edwin Prescott</td>\n      <td>NaN</td>\n      <td>NaN</td>\n      <td>...</td>\n      <td>NaN</td>\n      <td>NaN</td>\n      <td>NaN</td>\n      <td>NaN</td>\n      <td>NaN</td>\n      <td>NaN</td>\n      <td>NaN</td>\n      <td>NaN</td>\n      <td>1</td>\n      <td>NaN</td>\n    </tr>\n    <tr>\n      <th>4</th>\n      <td>Loop the Loop (Young's Pier)</td>\n      <td>NaN</td>\n      <td>NaN</td>\n      <td>Other</td>\n      <td>Removed</td>\n      <td>1901</td>\n      <td>Steel</td>\n      <td>Edwin Prescott</td>\n      <td>NaN</td>\n      <td>NaN</td>\n      <td>...</td>\n      <td>NaN</td>\n      <td>NaN</td>\n      <td>NaN</td>\n      <td>NaN</td>\n      <td>NaN</td>\n      <td>NaN</td>\n      <td>NaN</td>\n      <td>NaN</td>\n      <td>1</td>\n      <td>NaN</td>\n    </tr>\n  </tbody>\n</table>\n<p>5 rows × 56 columns</p>\n</div>"
     },
     "execution_count": 5,
     "metadata": {},
     "output_type": "execute_result"
    }
   ],
   "source": [
    "df.head()"
   ],
   "metadata": {
    "collapsed": false,
    "ExecuteTime": {
     "end_time": "2023-08-23T13:47:21.484122300Z",
     "start_time": "2023-08-23T13:47:21.459102600Z"
    }
   },
   "id": "cb6104fc3ab8b140"
  },
  {
   "cell_type": "code",
   "execution_count": 6,
   "outputs": [
    {
     "data": {
      "text/plain": "Index(['coaster_name', 'Length', 'Speed', 'Location', 'Status', 'Opening date',\n       'Type', 'Manufacturer', 'Height restriction', 'Model', 'Height',\n       'Inversions', 'Lift/launch system', 'Cost', 'Trains', 'Park section',\n       'Duration', 'Capacity', 'G-force', 'Designer', 'Max vertical angle',\n       'Drop', 'Soft opening date', 'Fast Lane available', 'Replaced',\n       'Track layout', 'Fastrack available', 'Soft opening date.1',\n       'Closing date', 'Opened', 'Replaced by', 'Website',\n       'Flash Pass Available', 'Must transfer from wheelchair', 'Theme',\n       'Single rider line available', 'Restraint Style',\n       'Flash Pass available', 'Acceleration', 'Restraints', 'Name',\n       'year_introduced', 'latitude', 'longitude', 'Type_Main',\n       'opening_date_clean', 'speed1', 'speed2', 'speed1_value', 'speed1_unit',\n       'speed_mph', 'height_value', 'height_unit', 'height_ft',\n       'Inversions_clean', 'Gforce_clean'],\n      dtype='object')"
     },
     "execution_count": 6,
     "metadata": {},
     "output_type": "execute_result"
    }
   ],
   "source": [
    "df.columns"
   ],
   "metadata": {
    "collapsed": false,
    "ExecuteTime": {
     "end_time": "2023-08-23T13:47:54.487457400Z",
     "start_time": "2023-08-23T13:47:54.452015900Z"
    }
   },
   "id": "610f07a75608c205"
  },
  {
   "cell_type": "code",
   "execution_count": 9,
   "outputs": [
    {
     "data": {
      "text/plain": "coaster_name                      object\nLength                            object\nSpeed                             object\nLocation                          object\nStatus                            object\nOpening date                      object\nType                              object\nManufacturer                      object\nHeight restriction                object\nModel                             object\nHeight                            object\nInversions                       float64\nLift/launch system                object\nCost                              object\nTrains                            object\nPark section                      object\nDuration                          object\nCapacity                          object\nG-force                           object\nDesigner                          object\nMax vertical angle                object\nDrop                              object\nSoft opening date                 object\nFast Lane available               object\nReplaced                          object\nTrack layout                      object\nFastrack available                object\nSoft opening date.1               object\nClosing date                      object\nOpened                            object\nReplaced by                       object\nWebsite                           object\nFlash Pass Available              object\nMust transfer from wheelchair     object\nTheme                             object\nSingle rider line available       object\nRestraint Style                   object\nFlash Pass available              object\nAcceleration                      object\nRestraints                        object\nName                              object\nyear_introduced                    int64\nlatitude                         float64\nlongitude                        float64\nType_Main                         object\nopening_date_clean                object\nspeed1                            object\nspeed2                            object\nspeed1_value                     float64\nspeed1_unit                       object\nspeed_mph                        float64\nheight_value                     float64\nheight_unit                       object\nheight_ft                        float64\nInversions_clean                   int64\nGforce_clean                     float64\ndtype: object"
     },
     "execution_count": 9,
     "metadata": {},
     "output_type": "execute_result"
    }
   ],
   "source": [
    "df.dtypes"
   ],
   "metadata": {
    "collapsed": false,
    "ExecuteTime": {
     "end_time": "2023-08-23T13:51:39.694887300Z",
     "start_time": "2023-08-23T13:51:39.676167900Z"
    }
   },
   "id": "84bb19cda1c99625"
  },
  {
   "cell_type": "code",
   "execution_count": 10,
   "outputs": [
    {
     "data": {
      "text/plain": "       Inversions  year_introduced    latitude   longitude  speed1_value  \\\ncount  932.000000      1087.000000  812.000000  812.000000    937.000000   \nmean     1.547210      1994.986201   38.373484  -41.595373     53.850374   \nstd      2.114073        23.475248   15.516596   72.285227     23.385518   \nmin      0.000000      1884.000000  -48.261700 -123.035700      5.000000   \n25%      0.000000      1989.000000   35.031050  -84.552200     40.000000   \n50%      0.000000      2000.000000   40.289800  -76.653600     50.000000   \n75%      3.000000      2010.000000   44.799600    2.778100     63.000000   \nmax     14.000000      2022.000000   63.230900  153.426500    240.000000   \n\n        speed_mph  height_value   height_ft  Inversions_clean  Gforce_clean  \ncount  937.000000    965.000000  171.000000       1087.000000    362.000000  \nmean    48.617289     89.575171  101.996491          1.326587      3.824006  \nstd     16.678031    136.246444   67.329092          2.030854      0.989998  \nmin      5.000000      4.000000   13.100000          0.000000      0.800000  \n25%     37.300000     44.000000   51.800000          0.000000      3.400000  \n50%     49.700000     79.000000   91.200000          0.000000      4.000000  \n75%     58.000000    113.000000  131.200000          2.000000      4.500000  \nmax    149.100000   3937.000000  377.300000         14.000000     12.000000  ",
      "text/html": "<div>\n<style scoped>\n    .dataframe tbody tr th:only-of-type {\n        vertical-align: middle;\n    }\n\n    .dataframe tbody tr th {\n        vertical-align: top;\n    }\n\n    .dataframe thead th {\n        text-align: right;\n    }\n</style>\n<table border=\"1\" class=\"dataframe\">\n  <thead>\n    <tr style=\"text-align: right;\">\n      <th></th>\n      <th>Inversions</th>\n      <th>year_introduced</th>\n      <th>latitude</th>\n      <th>longitude</th>\n      <th>speed1_value</th>\n      <th>speed_mph</th>\n      <th>height_value</th>\n      <th>height_ft</th>\n      <th>Inversions_clean</th>\n      <th>Gforce_clean</th>\n    </tr>\n  </thead>\n  <tbody>\n    <tr>\n      <th>count</th>\n      <td>932.000000</td>\n      <td>1087.000000</td>\n      <td>812.000000</td>\n      <td>812.000000</td>\n      <td>937.000000</td>\n      <td>937.000000</td>\n      <td>965.000000</td>\n      <td>171.000000</td>\n      <td>1087.000000</td>\n      <td>362.000000</td>\n    </tr>\n    <tr>\n      <th>mean</th>\n      <td>1.547210</td>\n      <td>1994.986201</td>\n      <td>38.373484</td>\n      <td>-41.595373</td>\n      <td>53.850374</td>\n      <td>48.617289</td>\n      <td>89.575171</td>\n      <td>101.996491</td>\n      <td>1.326587</td>\n      <td>3.824006</td>\n    </tr>\n    <tr>\n      <th>std</th>\n      <td>2.114073</td>\n      <td>23.475248</td>\n      <td>15.516596</td>\n      <td>72.285227</td>\n      <td>23.385518</td>\n      <td>16.678031</td>\n      <td>136.246444</td>\n      <td>67.329092</td>\n      <td>2.030854</td>\n      <td>0.989998</td>\n    </tr>\n    <tr>\n      <th>min</th>\n      <td>0.000000</td>\n      <td>1884.000000</td>\n      <td>-48.261700</td>\n      <td>-123.035700</td>\n      <td>5.000000</td>\n      <td>5.000000</td>\n      <td>4.000000</td>\n      <td>13.100000</td>\n      <td>0.000000</td>\n      <td>0.800000</td>\n    </tr>\n    <tr>\n      <th>25%</th>\n      <td>0.000000</td>\n      <td>1989.000000</td>\n      <td>35.031050</td>\n      <td>-84.552200</td>\n      <td>40.000000</td>\n      <td>37.300000</td>\n      <td>44.000000</td>\n      <td>51.800000</td>\n      <td>0.000000</td>\n      <td>3.400000</td>\n    </tr>\n    <tr>\n      <th>50%</th>\n      <td>0.000000</td>\n      <td>2000.000000</td>\n      <td>40.289800</td>\n      <td>-76.653600</td>\n      <td>50.000000</td>\n      <td>49.700000</td>\n      <td>79.000000</td>\n      <td>91.200000</td>\n      <td>0.000000</td>\n      <td>4.000000</td>\n    </tr>\n    <tr>\n      <th>75%</th>\n      <td>3.000000</td>\n      <td>2010.000000</td>\n      <td>44.799600</td>\n      <td>2.778100</td>\n      <td>63.000000</td>\n      <td>58.000000</td>\n      <td>113.000000</td>\n      <td>131.200000</td>\n      <td>2.000000</td>\n      <td>4.500000</td>\n    </tr>\n    <tr>\n      <th>max</th>\n      <td>14.000000</td>\n      <td>2022.000000</td>\n      <td>63.230900</td>\n      <td>153.426500</td>\n      <td>240.000000</td>\n      <td>149.100000</td>\n      <td>3937.000000</td>\n      <td>377.300000</td>\n      <td>14.000000</td>\n      <td>12.000000</td>\n    </tr>\n  </tbody>\n</table>\n</div>"
     },
     "execution_count": 10,
     "metadata": {},
     "output_type": "execute_result"
    }
   ],
   "source": [
    "df.describe()"
   ],
   "metadata": {
    "collapsed": false,
    "ExecuteTime": {
     "end_time": "2023-08-23T13:51:55.667772100Z",
     "start_time": "2023-08-23T13:51:55.629099600Z"
    }
   },
   "id": "e80494ad6fdee2b3"
  },
  {
   "cell_type": "code",
   "execution_count": 12,
   "outputs": [
    {
     "data": {
      "text/plain": "                                coaster_name                        Location  \\\n0                         Switchback Railway                    Coney Island   \n1                          Flip Flap Railway                   Sea Lion Park   \n2     Switchback Railway (Euclid Beach Park)  Cleveland, Ohio, United States   \n3               Loop the Loop (Coney Island)                           Other   \n4               Loop the Loop (Young's Pier)                           Other   \n...                                      ...                             ...   \n1082                 American Dreier Looping                           Other   \n1083               Pantheon (roller coaster)      Busch Gardens Williamsburg   \n1084               Tron Lightcycle Power Run                           Other   \n1085                                 Tumbili                  Kings Dominion   \n1086          Wonder Woman Flight of Courage        Six Flags Magic Mountain   \n\n                  Status                 Manufacturer  year_introduced  \\\n0                Removed       LaMarcus Adna Thompson             1884   \n1                Removed                 Lina Beecher             1895   \n2                 Closed                          NaN             1896   \n3                Removed               Edwin Prescott             1901   \n4                Removed               Edwin Prescott             1901   \n...                  ...                          ...              ...   \n1082                 NaN            Anton Schwarzkopf             2022   \n1083  Under construction                      Intamin             2022   \n1084                 NaN                       Vekoma             2022   \n1085  Under construction    S&S – Sansei Technologies             2022   \n1086  Under construction  Rocky Mountain Construction             2022   \n\n      latitude  longitude Type_Main opening_date_clean  speed_mph  height_ft  \\\n0      40.5740   -73.9780      Wood         1884-06-16        6.0        NaN   \n1      40.5780   -73.9790      Wood         1895-01-01        NaN        NaN   \n2      41.5800   -81.5700     Other                NaN        NaN        NaN   \n3      40.5745   -73.9780     Steel         1901-01-01        NaN        NaN   \n4      39.3538   -74.4342     Steel         1901-01-01        NaN        NaN   \n...        ...        ...       ...                ...        ...        ...   \n1082       NaN        NaN     Steel                NaN       53.0        NaN   \n1083   37.2339   -76.6426     Steel         2022-01-01       73.0        NaN   \n1084       NaN        NaN     Steel         2016-06-16       59.3        NaN   \n1085       NaN        NaN     Steel                NaN       34.0        NaN   \n1086       NaN        NaN     Steel         2022-01-01       58.0        NaN   \n\n      Inversions_clean  Gforce_clean  \n0                    0           2.9  \n1                    1          12.0  \n2                    0           NaN  \n3                    1           NaN  \n4                    1           NaN  \n...                ...           ...  \n1082                 3           4.7  \n1083                 2           NaN  \n1084                 0           4.0  \n1085                 0           NaN  \n1086                 3           NaN  \n\n[1087 rows x 13 columns]",
      "text/html": "<div>\n<style scoped>\n    .dataframe tbody tr th:only-of-type {\n        vertical-align: middle;\n    }\n\n    .dataframe tbody tr th {\n        vertical-align: top;\n    }\n\n    .dataframe thead th {\n        text-align: right;\n    }\n</style>\n<table border=\"1\" class=\"dataframe\">\n  <thead>\n    <tr style=\"text-align: right;\">\n      <th></th>\n      <th>coaster_name</th>\n      <th>Location</th>\n      <th>Status</th>\n      <th>Manufacturer</th>\n      <th>year_introduced</th>\n      <th>latitude</th>\n      <th>longitude</th>\n      <th>Type_Main</th>\n      <th>opening_date_clean</th>\n      <th>speed_mph</th>\n      <th>height_ft</th>\n      <th>Inversions_clean</th>\n      <th>Gforce_clean</th>\n    </tr>\n  </thead>\n  <tbody>\n    <tr>\n      <th>0</th>\n      <td>Switchback Railway</td>\n      <td>Coney Island</td>\n      <td>Removed</td>\n      <td>LaMarcus Adna Thompson</td>\n      <td>1884</td>\n      <td>40.5740</td>\n      <td>-73.9780</td>\n      <td>Wood</td>\n      <td>1884-06-16</td>\n      <td>6.0</td>\n      <td>NaN</td>\n      <td>0</td>\n      <td>2.9</td>\n    </tr>\n    <tr>\n      <th>1</th>\n      <td>Flip Flap Railway</td>\n      <td>Sea Lion Park</td>\n      <td>Removed</td>\n      <td>Lina Beecher</td>\n      <td>1895</td>\n      <td>40.5780</td>\n      <td>-73.9790</td>\n      <td>Wood</td>\n      <td>1895-01-01</td>\n      <td>NaN</td>\n      <td>NaN</td>\n      <td>1</td>\n      <td>12.0</td>\n    </tr>\n    <tr>\n      <th>2</th>\n      <td>Switchback Railway (Euclid Beach Park)</td>\n      <td>Cleveland, Ohio, United States</td>\n      <td>Closed</td>\n      <td>NaN</td>\n      <td>1896</td>\n      <td>41.5800</td>\n      <td>-81.5700</td>\n      <td>Other</td>\n      <td>NaN</td>\n      <td>NaN</td>\n      <td>NaN</td>\n      <td>0</td>\n      <td>NaN</td>\n    </tr>\n    <tr>\n      <th>3</th>\n      <td>Loop the Loop (Coney Island)</td>\n      <td>Other</td>\n      <td>Removed</td>\n      <td>Edwin Prescott</td>\n      <td>1901</td>\n      <td>40.5745</td>\n      <td>-73.9780</td>\n      <td>Steel</td>\n      <td>1901-01-01</td>\n      <td>NaN</td>\n      <td>NaN</td>\n      <td>1</td>\n      <td>NaN</td>\n    </tr>\n    <tr>\n      <th>4</th>\n      <td>Loop the Loop (Young's Pier)</td>\n      <td>Other</td>\n      <td>Removed</td>\n      <td>Edwin Prescott</td>\n      <td>1901</td>\n      <td>39.3538</td>\n      <td>-74.4342</td>\n      <td>Steel</td>\n      <td>1901-01-01</td>\n      <td>NaN</td>\n      <td>NaN</td>\n      <td>1</td>\n      <td>NaN</td>\n    </tr>\n    <tr>\n      <th>...</th>\n      <td>...</td>\n      <td>...</td>\n      <td>...</td>\n      <td>...</td>\n      <td>...</td>\n      <td>...</td>\n      <td>...</td>\n      <td>...</td>\n      <td>...</td>\n      <td>...</td>\n      <td>...</td>\n      <td>...</td>\n      <td>...</td>\n    </tr>\n    <tr>\n      <th>1082</th>\n      <td>American Dreier Looping</td>\n      <td>Other</td>\n      <td>NaN</td>\n      <td>Anton Schwarzkopf</td>\n      <td>2022</td>\n      <td>NaN</td>\n      <td>NaN</td>\n      <td>Steel</td>\n      <td>NaN</td>\n      <td>53.0</td>\n      <td>NaN</td>\n      <td>3</td>\n      <td>4.7</td>\n    </tr>\n    <tr>\n      <th>1083</th>\n      <td>Pantheon (roller coaster)</td>\n      <td>Busch Gardens Williamsburg</td>\n      <td>Under construction</td>\n      <td>Intamin</td>\n      <td>2022</td>\n      <td>37.2339</td>\n      <td>-76.6426</td>\n      <td>Steel</td>\n      <td>2022-01-01</td>\n      <td>73.0</td>\n      <td>NaN</td>\n      <td>2</td>\n      <td>NaN</td>\n    </tr>\n    <tr>\n      <th>1084</th>\n      <td>Tron Lightcycle Power Run</td>\n      <td>Other</td>\n      <td>NaN</td>\n      <td>Vekoma</td>\n      <td>2022</td>\n      <td>NaN</td>\n      <td>NaN</td>\n      <td>Steel</td>\n      <td>2016-06-16</td>\n      <td>59.3</td>\n      <td>NaN</td>\n      <td>0</td>\n      <td>4.0</td>\n    </tr>\n    <tr>\n      <th>1085</th>\n      <td>Tumbili</td>\n      <td>Kings Dominion</td>\n      <td>Under construction</td>\n      <td>S&amp;S – Sansei Technologies</td>\n      <td>2022</td>\n      <td>NaN</td>\n      <td>NaN</td>\n      <td>Steel</td>\n      <td>NaN</td>\n      <td>34.0</td>\n      <td>NaN</td>\n      <td>0</td>\n      <td>NaN</td>\n    </tr>\n    <tr>\n      <th>1086</th>\n      <td>Wonder Woman Flight of Courage</td>\n      <td>Six Flags Magic Mountain</td>\n      <td>Under construction</td>\n      <td>Rocky Mountain Construction</td>\n      <td>2022</td>\n      <td>NaN</td>\n      <td>NaN</td>\n      <td>Steel</td>\n      <td>2022-01-01</td>\n      <td>58.0</td>\n      <td>NaN</td>\n      <td>3</td>\n      <td>NaN</td>\n    </tr>\n  </tbody>\n</table>\n<p>1087 rows × 13 columns</p>\n</div>"
     },
     "execution_count": 12,
     "metadata": {},
     "output_type": "execute_result"
    }
   ],
   "source": [
    "df[['coaster_name',\n",
    "    # 'Length', 'Speed',\n",
    "    'Location', 'Status',\n",
    "    # 'Opening date',\n",
    "    # 'Type',\n",
    "    'Manufacturer',\n",
    "    # 'Height restriction', 'Model', 'Height',\n",
    "     # 'Inversions', 'Lift/launch system', 'Cost', 'Trains', 'Park section',\n",
    "     # 'Duration', 'Capacity', 'G-force', 'Designer', 'Max vertical angle',\n",
    "     # 'Drop', 'Soft opening date', 'Fast Lane available', 'Replaced',\n",
    "     # 'Track layout', 'Fastrack available', 'Soft opening date.1',\n",
    "     # 'Closing date', 'Opened',\n",
    "    #'Replaced by', 'Website',\n",
    "     # 'Flash Pass Available', 'Must transfer from wheelchair', 'Theme',\n",
    "     # 'Single rider line available', 'Restraint Style',\n",
    "     # 'Flash Pass available', 'Acceleration', 'Restraints', 'Name',\n",
    "     'year_introduced', 'latitude', 'longitude',\n",
    "     'Type_Main',\n",
    "     'opening_date_clean',\n",
    "    #'speed1', 'speed2', 'speed1_value', 'speed1_unit',\n",
    "     'speed_mph',\n",
    "    # 'height_value', 'height_unit',\n",
    "     'height_ft',\n",
    "     'Inversions_clean', 'Gforce_clean']]"
   ],
   "metadata": {
    "collapsed": false,
    "ExecuteTime": {
     "end_time": "2023-08-23T14:00:14.341874100Z",
     "start_time": "2023-08-23T14:00:14.305367400Z"
    }
   },
   "id": "de120ff831fbd2d7"
  },
  {
   "cell_type": "code",
   "execution_count": null,
   "outputs": [],
   "source": [],
   "metadata": {
    "collapsed": false
   },
   "id": "4af75c6adccc8b50"
  }
 ],
 "metadata": {
  "kernelspec": {
   "display_name": "Python 3",
   "language": "python",
   "name": "python3"
  },
  "language_info": {
   "codemirror_mode": {
    "name": "ipython",
    "version": 2
   },
   "file_extension": ".py",
   "mimetype": "text/x-python",
   "name": "python",
   "nbconvert_exporter": "python",
   "pygments_lexer": "ipython2",
   "version": "2.7.6"
  }
 },
 "nbformat": 4,
 "nbformat_minor": 5
}
